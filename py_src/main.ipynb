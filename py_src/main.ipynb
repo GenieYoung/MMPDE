{
 "cells": [
  {
   "cell_type": "markdown",
   "id": "cd538e03",
   "metadata": {},
   "source": [
    "# Dependence"
   ]
  },
  {
   "cell_type": "code",
   "execution_count": null,
   "id": "7e1d9920",
   "metadata": {},
   "outputs": [],
   "source": [
    "import torch\n",
    "import torch.nn as nn\n",
    "import torch.autograd as autograd\n",
    "\n",
    "import numpy as np\n",
    "\n",
    "import matplotlib.pyplot as plt\n",
    "import matplotlib.tri as mtri\n",
    "\n",
    "seed = 42\n",
    "torch.manual_seed(seed)\n",
    "np.random.seed(seed)\n",
    "\n",
    "device = torch.device('cuda' if torch.cuda.is_available() else 'cpu')"
   ]
  },
  {
   "cell_type": "markdown",
   "id": "2abf3723",
   "metadata": {},
   "source": [
    "# Parameter"
   ]
  },
  {
   "cell_type": "code",
   "execution_count": null,
   "id": "1b916cbb",
   "metadata": {},
   "outputs": [],
   "source": [
    "steps = 10000\n",
    "layers = np.array([2,32,64,32,2])\n",
    "lr = 0.001"
   ]
  },
  {
   "cell_type": "markdown",
   "id": "5877836c",
   "metadata": {},
   "source": [
    "# Build mesh"
   ]
  },
  {
   "cell_type": "code",
   "execution_count": null,
   "id": "fa76091d",
   "metadata": {},
   "outputs": [],
   "source": [
    "m_rows = 20\n",
    "m_cols = 20\n",
    "\n",
    "x = torch.linspace(0, 1, m_cols + 1)\n",
    "y = torch.linspace(0, 1, m_rows + 1)\n",
    "x = x.repeat(m_rows + 1)\n",
    "y = y.repeat_interleave(m_cols + 1)\n",
    "V = torch.stack([x,y],dim=1)\n",
    "V_ref = V.clone()\n",
    "\n",
    "tris = []\n",
    "\n",
    "for i in range(m_cols):\n",
    "   for j in range(m_rows):\n",
    "       tris.append([j * (m_cols + 1) + i, j * (m_cols + 1) + i + 1, (j + 1) * (m_cols + 1) + i + 1])\n",
    "       tris.append([j * (m_cols + 1) + i, (j + 1) * (m_cols + 1) + i + 1, (j + 1) * (m_cols + 1) + i])\n",
    "        \n",
    "tris = torch.tensor(tris)\n",
    "boundarys = V[(V[:,0]==0.0) | (V[:,1]==0.0) | (V[:,0]==1.0) | (V[:,1]==1.0)]\n",
    "\n",
    "plt.triplot(x,y,tris,'k-',linewidth=0.3)\n",
    "plt.show()"
   ]
  },
  {
   "cell_type": "markdown",
   "id": "c3c9af9f",
   "metadata": {},
   "source": [
    "# Moving Mesh Functions"
   ]
  },
  {
   "cell_type": "code",
   "execution_count": null,
   "id": "7600c78b",
   "metadata": {},
   "outputs": [],
   "source": [
    "def U(V):\n",
    "    return torch.tanh(-30*(V[:,1]-0.5-0.25*torch.sin(2*torch.pi*V[:,0])))\n",
    "\n",
    "def U_x_y(V):\n",
    "    U_x = (1-U(V)**2)*(15*torch.pi*torch.cos(2*torch.pi*V[:,0]))\n",
    "    U_y = (1-U(V)**2)*(-30)\n",
    "    return torch.stack([U_x,U_y],dim=1)\n",
    "    \n",
    "def metric(V):\n",
    "    u_x_y = U_x_y(V)\n",
    "    col = u_x_y.unsqueeze(2)\n",
    "    row = u_x_y.unsqueeze(1)\n",
    "    u_x_y_2 = col@row\n",
    "    u_x_y_2[:,0,0] += 1\n",
    "    u_x_y_2[:,1,1] += 1\n",
    "    return u_x_y_2"
   ]
  },
  {
   "cell_type": "markdown",
   "id": "9679429c",
   "metadata": {},
   "source": [
    "# Auxiliary Functions\n"
   ]
  },
  {
   "cell_type": "code",
   "execution_count": null,
   "id": "241d102b",
   "metadata": {},
   "outputs": [],
   "source": [
    "def area(V,tris):\n",
    "    v1,v2,v3 = V[tris[:,0]],V[tris[:,1]],V[tris[:,2]]\n",
    "    return 0.5*torch.abs((v2[:,0]-v1[:,0])*(v3[:,1]-v1[:,1])-(v3[:,0]-v1[:,0])*(v2[:,1]-v1[:,1]))\n",
    "    \n",
    "def centroid(V,tris):\n",
    "    return (V[tris[:,0]]+V[tris[:,1]]+V[tris[:,2]])/3.0\n",
    "\n",
    "def Plot(V, U):\n",
    "    _,ax=plt.subplots()\n",
    "    ax.tripcolor(V[:,0],V[:,1],tris,U,cmap='viridis')\n",
    "    ax.set_xlabel('x')\n",
    "    ax.set_ylabel('y')\n",
    "    ax.set_title('U')\n",
    "    plt.show()\n",
    "    \n",
    "Plot(V,U(V))"
   ]
  },
  {
   "cell_type": "markdown",
   "id": "135e8224",
   "metadata": {},
   "source": [
    "# Neural Network"
   ]
  },
  {
   "cell_type": "code",
   "execution_count": null,
   "id": "2b344343",
   "metadata": {},
   "outputs": [],
   "source": [
    "class FCN(nn.Module):\n",
    "    def __init__(self,layers):\n",
    "        super().__init__()\n",
    "        self.layers = layers \n",
    "        self.activation = nn.Tanh()\n",
    "        self.loss_function = nn.MSELoss(reduction ='mean')\n",
    "        self.linears = nn.ModuleList([nn.Linear(layers[i], layers[i+1]) for i in range(len(layers)-1)]) \n",
    "        self.iter = 0\n",
    "        for i in range(len(layers)-1):\n",
    "            nn.init.xavier_normal_(self.linears[i].weight.data, gain=1.0)\n",
    "            nn.init.zeros_(self.linears[i].bias.data)   \n",
    "\n",
    "    def forward(self,x):\n",
    "        if torch.is_tensor(x) != True:         \n",
    "            x = torch.from_numpy(x)                \n",
    "        a = x.float()\n",
    "        for i in range(len(self.layers)-2):  \n",
    "            z = self.linears[i](a)              \n",
    "            a = self.activation(z)\n",
    "        a = self.linears[-1](a)\n",
    "        return a    \n",
    "    \n",
    "    def jacobian(self,V):\n",
    "        V.requires_grad = True\n",
    "        xy = self.forward(V)\n",
    "        x = xy[:,0].unsqueeze(1)\n",
    "        y = xy[:,1].unsqueeze(1)\n",
    "        dx = autograd.grad(x,V,torch.ones([V.shape[0],1]).to(device),retain_graph=True,create_graph=True)[0]\n",
    "        dy = autograd.grad(y,V,torch.ones([V.shape[0],1]).to(device),retain_graph=True,create_graph=True)[0]\n",
    "        return torch.stack([dx,dy],dim=1)\n",
    "    \n",
    "    def loss_BE(self,boundarys):\n",
    "        return self.loss_function(self.forward(boundarys),boundarys)*1000.0\n",
    "    \n",
    "    def loss_G(self,V_ref,tris):\n",
    "        areas = area(V_ref,tris)\n",
    "        centroids = centroid(V_ref,tris)\n",
    "        cx = self.forward(centroids)\n",
    "        J = self.jacobian(centroids)\n",
    "        detJ = torch.linalg.det(J)\n",
    "        Jinv = torch.linalg.inv(J)\n",
    "        JinvT = Jinv.transpose(1,2)\n",
    "        M = metric(cx)\n",
    "        M_inv = torch.linalg.inv(M)\n",
    "        JMJ = Jinv@M_inv@JinvT\n",
    "        traces = JMJ[:,0,0] + JMJ[:,1,1]  \n",
    "        return self.loss_function(torch.sum(areas*traces*detJ),torch.tensor(0.0).to(device))\n",
    "\n",
    "    def loss(self,V_ref,V,tris,boundarys):      \n",
    "        return self.loss_G(V_ref,tris) + self.loss_BE(boundarys)\n",
    "        \n",
    "        # V.requires_grad = True\n",
    "        # V_ref.requires_grad = True\n",
    "        # J = self.jacobian(V_ref,V,tris)\n",
    "        # JT = J.transpose(1,2)\n",
    "        # vol = self.area(V,tris)\n",
    "        # JJT = torch.bmm(J,JT)\n",
    "        # traces = JJT[:,0,0] + JJT[:,1,1]\n",
    "        # return torch.dot(vol, traces)"
   ]
  },
  {
   "cell_type": "markdown",
   "id": "ff54ec66",
   "metadata": {},
   "source": [
    "# Train Neural Network"
   ]
  },
  {
   "cell_type": "code",
   "execution_count": null,
   "id": "526eac08",
   "metadata": {},
   "outputs": [],
   "source": [
    "V = V.float().to(device)\n",
    "V_ref = V_ref.float().to(device)\n",
    "tris = torch.tensor(tris,dtype=torch.long).to(device)\n",
    "boundarys = boundarys.float().to(device)\n",
    "\n",
    "MMPDE_Net = FCN(layers)\n",
    "MMPDE_Net.to(device)\n",
    "params = list(MMPDE_Net.parameters())\n",
    "optimizer = torch.optim.Adam(MMPDE_Net.parameters(),lr=lr,amsgrad=False)\n",
    "\n",
    "for i in range(steps):\n",
    "    loss = MMPDE_Net.loss(V_ref,V,tris,boundarys)\n",
    "    optimizer.zero_grad()\n",
    "    loss.backward()\n",
    "    optimizer.step()\n",
    "    print(i,loss.detach().cpu().numpy())\n",
    "    \n",
    "new_V = MMPDE_Net(V_ref).detach().cpu()\n",
    "plt.triplot(new_V[:,0],new_V[:,1],tris.detach().cpu(),'k-',linewidth=0.3)"
   ]
  }
 ],
 "metadata": {
  "kernelspec": {
   "display_name": "Python 3",
   "language": "python",
   "name": "python3"
  },
  "language_info": {
   "codemirror_mode": {
    "name": "ipython",
    "version": 3
   },
   "file_extension": ".py",
   "mimetype": "text/x-python",
   "name": "python",
   "nbconvert_exporter": "python",
   "pygments_lexer": "ipython3",
   "version": "3.12.10"
  }
 },
 "nbformat": 4,
 "nbformat_minor": 5
}
